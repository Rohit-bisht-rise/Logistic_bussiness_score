{
 "cells": [
  {
   "cell_type": "code",
   "execution_count": 1,
   "metadata": {},
   "outputs": [],
   "source": [
    "import pandas as pd\n",
    "import numpy as np\n",
    "import matplotlib.pyplot as plt\n",
    "%matplotlib inline"
   ]
  },
  {
   "cell_type": "code",
   "execution_count": 3,
   "metadata": {},
   "outputs": [
    {
     "data": {
      "text/html": [
       "<div>\n",
       "<style scoped>\n",
       "    .dataframe tbody tr th:only-of-type {\n",
       "        vertical-align: middle;\n",
       "    }\n",
       "\n",
       "    .dataframe tbody tr th {\n",
       "        vertical-align: top;\n",
       "    }\n",
       "\n",
       "    .dataframe thead th {\n",
       "        text-align: right;\n",
       "    }\n",
       "</style>\n",
       "<table border=\"1\" class=\"dataframe\">\n",
       "  <thead>\n",
       "    <tr style=\"text-align: right;\">\n",
       "      <th></th>\n",
       "      <th>ID</th>\n",
       "      <th>Office_PIN</th>\n",
       "      <th>Applicant_City_PIN</th>\n",
       "      <th>Applicant_Gender</th>\n",
       "      <th>Applicant_Marital_Status</th>\n",
       "      <th>Applicant_Occupation</th>\n",
       "      <th>Applicant_Qualification</th>\n",
       "      <th>Manager_Joining_Designation</th>\n",
       "      <th>Manager_Current_Designation</th>\n",
       "      <th>Manager_Grade</th>\n",
       "      <th>Manager_Status</th>\n",
       "      <th>Manager_Gender</th>\n",
       "      <th>Manager_Num_Application</th>\n",
       "      <th>Manager_Num_Coded</th>\n",
       "      <th>Manager_Business</th>\n",
       "      <th>Manager_Num_Products</th>\n",
       "      <th>Manager_Business2</th>\n",
       "      <th>Manager_Num_Products2</th>\n",
       "      <th>Business_Sourced</th>\n",
       "    </tr>\n",
       "  </thead>\n",
       "  <tbody>\n",
       "    <tr>\n",
       "      <th>0</th>\n",
       "      <td>FIN1000001</td>\n",
       "      <td>842001</td>\n",
       "      <td>844120</td>\n",
       "      <td>M</td>\n",
       "      <td>M</td>\n",
       "      <td>Others</td>\n",
       "      <td>Graduate</td>\n",
       "      <td>Level 1</td>\n",
       "      <td>Level 2</td>\n",
       "      <td>3.0</td>\n",
       "      <td>Confirmation</td>\n",
       "      <td>M</td>\n",
       "      <td>2.0</td>\n",
       "      <td>1.0</td>\n",
       "      <td>335249.0</td>\n",
       "      <td>28.0</td>\n",
       "      <td>335249.0</td>\n",
       "      <td>28.0</td>\n",
       "      <td>0</td>\n",
       "    </tr>\n",
       "    <tr>\n",
       "      <th>1</th>\n",
       "      <td>FIN1000002</td>\n",
       "      <td>842001</td>\n",
       "      <td>844111</td>\n",
       "      <td>M</td>\n",
       "      <td>S</td>\n",
       "      <td>Others</td>\n",
       "      <td>Class XII</td>\n",
       "      <td>Level 1</td>\n",
       "      <td>Level 2</td>\n",
       "      <td>3.0</td>\n",
       "      <td>Confirmation</td>\n",
       "      <td>M</td>\n",
       "      <td>2.0</td>\n",
       "      <td>1.0</td>\n",
       "      <td>335249.0</td>\n",
       "      <td>28.0</td>\n",
       "      <td>335249.0</td>\n",
       "      <td>28.0</td>\n",
       "      <td>1</td>\n",
       "    </tr>\n",
       "    <tr>\n",
       "      <th>2</th>\n",
       "      <td>FIN1000003</td>\n",
       "      <td>800001</td>\n",
       "      <td>844101</td>\n",
       "      <td>M</td>\n",
       "      <td>M</td>\n",
       "      <td>Business</td>\n",
       "      <td>Class XII</td>\n",
       "      <td>Level 1</td>\n",
       "      <td>Level 1</td>\n",
       "      <td>2.0</td>\n",
       "      <td>Confirmation</td>\n",
       "      <td>M</td>\n",
       "      <td>0.0</td>\n",
       "      <td>0.0</td>\n",
       "      <td>357184.0</td>\n",
       "      <td>24.0</td>\n",
       "      <td>357184.0</td>\n",
       "      <td>24.0</td>\n",
       "      <td>0</td>\n",
       "    </tr>\n",
       "    <tr>\n",
       "      <th>3</th>\n",
       "      <td>FIN1000004</td>\n",
       "      <td>814112</td>\n",
       "      <td>814112</td>\n",
       "      <td>M</td>\n",
       "      <td>S</td>\n",
       "      <td>Salaried</td>\n",
       "      <td>Class XII</td>\n",
       "      <td>Level 1</td>\n",
       "      <td>Level 3</td>\n",
       "      <td>4.0</td>\n",
       "      <td>Confirmation</td>\n",
       "      <td>F</td>\n",
       "      <td>0.0</td>\n",
       "      <td>0.0</td>\n",
       "      <td>318356.0</td>\n",
       "      <td>22.0</td>\n",
       "      <td>318356.0</td>\n",
       "      <td>22.0</td>\n",
       "      <td>0</td>\n",
       "    </tr>\n",
       "    <tr>\n",
       "      <th>4</th>\n",
       "      <td>FIN1000005</td>\n",
       "      <td>814112</td>\n",
       "      <td>815351</td>\n",
       "      <td>M</td>\n",
       "      <td>M</td>\n",
       "      <td>Others</td>\n",
       "      <td>Class XII</td>\n",
       "      <td>Level 1</td>\n",
       "      <td>Level 1</td>\n",
       "      <td>2.0</td>\n",
       "      <td>Confirmation</td>\n",
       "      <td>M</td>\n",
       "      <td>2.0</td>\n",
       "      <td>1.0</td>\n",
       "      <td>230402.0</td>\n",
       "      <td>17.0</td>\n",
       "      <td>230402.0</td>\n",
       "      <td>17.0</td>\n",
       "      <td>0</td>\n",
       "    </tr>\n",
       "  </tbody>\n",
       "</table>\n",
       "</div>"
      ],
      "text/plain": [
       "           ID  Office_PIN  Applicant_City_PIN Applicant_Gender  \\\n",
       "0  FIN1000001      842001              844120                M   \n",
       "1  FIN1000002      842001              844111                M   \n",
       "2  FIN1000003      800001              844101                M   \n",
       "3  FIN1000004      814112              814112                M   \n",
       "4  FIN1000005      814112              815351                M   \n",
       "\n",
       "  Applicant_Marital_Status Applicant_Occupation Applicant_Qualification  \\\n",
       "0                        M               Others                Graduate   \n",
       "1                        S               Others               Class XII   \n",
       "2                        M             Business               Class XII   \n",
       "3                        S             Salaried               Class XII   \n",
       "4                        M               Others               Class XII   \n",
       "\n",
       "  Manager_Joining_Designation Manager_Current_Designation  Manager_Grade  \\\n",
       "0                     Level 1                     Level 2            3.0   \n",
       "1                     Level 1                     Level 2            3.0   \n",
       "2                     Level 1                     Level 1            2.0   \n",
       "3                     Level 1                     Level 3            4.0   \n",
       "4                     Level 1                     Level 1            2.0   \n",
       "\n",
       "  Manager_Status Manager_Gender  Manager_Num_Application  Manager_Num_Coded  \\\n",
       "0   Confirmation              M                      2.0                1.0   \n",
       "1   Confirmation              M                      2.0                1.0   \n",
       "2   Confirmation              M                      0.0                0.0   \n",
       "3   Confirmation              F                      0.0                0.0   \n",
       "4   Confirmation              M                      2.0                1.0   \n",
       "\n",
       "   Manager_Business  Manager_Num_Products  Manager_Business2  \\\n",
       "0          335249.0                  28.0           335249.0   \n",
       "1          335249.0                  28.0           335249.0   \n",
       "2          357184.0                  24.0           357184.0   \n",
       "3          318356.0                  22.0           318356.0   \n",
       "4          230402.0                  17.0           230402.0   \n",
       "\n",
       "   Manager_Num_Products2  Business_Sourced  \n",
       "0                   28.0                 0  \n",
       "1                   28.0                 1  \n",
       "2                   24.0                 0  \n",
       "3                   22.0                 0  \n",
       "4                   17.0                 0  "
      ]
     },
     "execution_count": 3,
     "metadata": {},
     "output_type": "execute_result"
    }
   ],
   "source": [
    "df = pd.read_csv('Train_pjb2QcD.csv')\n",
    "df.head()"
   ]
  },
  {
   "cell_type": "code",
   "execution_count": 4,
   "metadata": {},
   "outputs": [
    {
     "data": {
      "text/plain": [
       "(8844, 19)"
      ]
     },
     "execution_count": 4,
     "metadata": {},
     "output_type": "execute_result"
    }
   ],
   "source": [
    "df.shape"
   ]
  },
  {
   "cell_type": "code",
   "execution_count": 5,
   "metadata": {},
   "outputs": [
    {
     "data": {
      "text/plain": [
       "ID                                0\n",
       "Office_PIN                        0\n",
       "Applicant_City_PIN                0\n",
       "Applicant_Gender                 53\n",
       "Applicant_Marital_Status         59\n",
       "Applicant_Occupation           1090\n",
       "Applicant_Qualification          71\n",
       "Manager_Joining_Designation       0\n",
       "Manager_Current_Designation       0\n",
       "Manager_Grade                     0\n",
       "Manager_Status                    0\n",
       "Manager_Gender                    0\n",
       "Manager_Num_Application           0\n",
       "Manager_Num_Coded                 0\n",
       "Manager_Business                  0\n",
       "Manager_Num_Products              0\n",
       "Manager_Business2                 0\n",
       "Manager_Num_Products2             0\n",
       "Business_Sourced                  0\n",
       "dtype: int64"
      ]
     },
     "execution_count": 5,
     "metadata": {},
     "output_type": "execute_result"
    }
   ],
   "source": [
    "df.isnull().sum()"
   ]
  },
  {
   "cell_type": "code",
   "execution_count": 6,
   "metadata": {},
   "outputs": [
    {
     "data": {
      "text/plain": [
       "0    M\n",
       "dtype: object"
      ]
     },
     "execution_count": 6,
     "metadata": {},
     "output_type": "execute_result"
    }
   ],
   "source": [
    "df['Applicant_Gender'].mode()"
   ]
  },
  {
   "cell_type": "code",
   "execution_count": 7,
   "metadata": {},
   "outputs": [],
   "source": [
    "df['Applicant_Gender'].fillna(value='M', inplace=True)"
   ]
  },
  {
   "cell_type": "code",
   "execution_count": 9,
   "metadata": {},
   "outputs": [
    {
     "data": {
      "text/plain": [
       "M    5733\n",
       "S    3042\n",
       "W       6\n",
       "D       4\n",
       "Name: Applicant_Marital_Status, dtype: int64"
      ]
     },
     "execution_count": 9,
     "metadata": {},
     "output_type": "execute_result"
    }
   ],
   "source": [
    "df['Applicant_Marital_Status'].value_counts()"
   ]
  },
  {
   "cell_type": "code",
   "execution_count": 10,
   "metadata": {},
   "outputs": [
    {
     "data": {
      "text/plain": [
       "0    M\n",
       "dtype: object"
      ]
     },
     "execution_count": 10,
     "metadata": {},
     "output_type": "execute_result"
    }
   ],
   "source": [
    "df['Applicant_Marital_Status'].mode()"
   ]
  },
  {
   "cell_type": "code",
   "execution_count": 11,
   "metadata": {},
   "outputs": [],
   "source": [
    "df['Applicant_Marital_Status'].fillna(value='M', inplace=True)"
   ]
  },
  {
   "cell_type": "code",
   "execution_count": 12,
   "metadata": {},
   "outputs": [
    {
     "data": {
      "text/plain": [
       "Salaried         3546\n",
       "Business         2157\n",
       "Others           1809\n",
       "Self Employed     146\n",
       "Student            96\n",
       "Name: Applicant_Occupation, dtype: int64"
      ]
     },
     "execution_count": 12,
     "metadata": {},
     "output_type": "execute_result"
    }
   ],
   "source": [
    "df['Applicant_Occupation'].value_counts()"
   ]
  },
  {
   "cell_type": "code",
   "execution_count": 13,
   "metadata": {},
   "outputs": [],
   "source": [
    "df['Applicant_Occupation'].fillna(value='Salaried', inplace=True)"
   ]
  },
  {
   "cell_type": "code",
   "execution_count": 14,
   "metadata": {},
   "outputs": [
    {
     "data": {
      "text/plain": [
       "Class XII                                                           5426\n",
       "Graduate                                                            2958\n",
       "Class X                                                              195\n",
       "Others                                                               116\n",
       "Masters of Business Administration                                    71\n",
       "Associate / Fellow of Institute of Chartered Accountans of India       3\n",
       "Associate/Fellow of Insurance Institute of India                       1\n",
       "Professional Qualification in Marketing                                1\n",
       "Associate/Fellow of Acturial Society of India                          1\n",
       "Associate/Fellow of Institute of Company Secretories of India          1\n",
       "Name: Applicant_Qualification, dtype: int64"
      ]
     },
     "execution_count": 14,
     "metadata": {},
     "output_type": "execute_result"
    }
   ],
   "source": [
    "df['Applicant_Qualification'].value_counts()"
   ]
  },
  {
   "cell_type": "code",
   "execution_count": 15,
   "metadata": {},
   "outputs": [],
   "source": [
    "df['Applicant_Qualification'].fillna(value='Class XII', inplace=True)"
   ]
  },
  {
   "cell_type": "code",
   "execution_count": 16,
   "metadata": {},
   "outputs": [
    {
     "data": {
      "text/plain": [
       "ID                             0\n",
       "Office_PIN                     0\n",
       "Applicant_City_PIN             0\n",
       "Applicant_Gender               0\n",
       "Applicant_Marital_Status       0\n",
       "Applicant_Occupation           0\n",
       "Applicant_Qualification        0\n",
       "Manager_Joining_Designation    0\n",
       "Manager_Current_Designation    0\n",
       "Manager_Grade                  0\n",
       "Manager_Status                 0\n",
       "Manager_Gender                 0\n",
       "Manager_Num_Application        0\n",
       "Manager_Num_Coded              0\n",
       "Manager_Business               0\n",
       "Manager_Num_Products           0\n",
       "Manager_Business2              0\n",
       "Manager_Num_Products2          0\n",
       "Business_Sourced               0\n",
       "dtype: int64"
      ]
     },
     "execution_count": 16,
     "metadata": {},
     "output_type": "execute_result"
    }
   ],
   "source": [
    "df.isnull().sum()"
   ]
  },
  {
   "cell_type": "code",
   "execution_count": 17,
   "metadata": {},
   "outputs": [
    {
     "data": {
      "text/plain": [
       "ID                              object\n",
       "Office_PIN                       int64\n",
       "Applicant_City_PIN               int64\n",
       "Applicant_Gender                object\n",
       "Applicant_Marital_Status        object\n",
       "Applicant_Occupation            object\n",
       "Applicant_Qualification         object\n",
       "Manager_Joining_Designation     object\n",
       "Manager_Current_Designation     object\n",
       "Manager_Grade                  float64\n",
       "Manager_Status                  object\n",
       "Manager_Gender                  object\n",
       "Manager_Num_Application        float64\n",
       "Manager_Num_Coded              float64\n",
       "Manager_Business               float64\n",
       "Manager_Num_Products           float64\n",
       "Manager_Business2              float64\n",
       "Manager_Num_Products2          float64\n",
       "Business_Sourced                 int64\n",
       "dtype: object"
      ]
     },
     "execution_count": 17,
     "metadata": {},
     "output_type": "execute_result"
    }
   ],
   "source": [
    "df.dtypes"
   ]
  },
  {
   "cell_type": "code",
   "execution_count": 20,
   "metadata": {},
   "outputs": [
    {
     "data": {
      "text/html": [
       "<div>\n",
       "<style scoped>\n",
       "    .dataframe tbody tr th:only-of-type {\n",
       "        vertical-align: middle;\n",
       "    }\n",
       "\n",
       "    .dataframe tbody tr th {\n",
       "        vertical-align: top;\n",
       "    }\n",
       "\n",
       "    .dataframe thead th {\n",
       "        text-align: right;\n",
       "    }\n",
       "</style>\n",
       "<table border=\"1\" class=\"dataframe\">\n",
       "  <thead>\n",
       "    <tr style=\"text-align: right;\">\n",
       "      <th></th>\n",
       "      <th>null</th>\n",
       "      <th>unique</th>\n",
       "      <th>data</th>\n",
       "    </tr>\n",
       "  </thead>\n",
       "  <tbody>\n",
       "    <tr>\n",
       "      <th>ID</th>\n",
       "      <td>0</td>\n",
       "      <td>8844</td>\n",
       "      <td>object</td>\n",
       "    </tr>\n",
       "    <tr>\n",
       "      <th>Office_PIN</th>\n",
       "      <td>0</td>\n",
       "      <td>98</td>\n",
       "      <td>int64</td>\n",
       "    </tr>\n",
       "    <tr>\n",
       "      <th>Applicant_City_PIN</th>\n",
       "      <td>0</td>\n",
       "      <td>2858</td>\n",
       "      <td>int64</td>\n",
       "    </tr>\n",
       "    <tr>\n",
       "      <th>Applicant_Gender</th>\n",
       "      <td>0</td>\n",
       "      <td>2</td>\n",
       "      <td>object</td>\n",
       "    </tr>\n",
       "    <tr>\n",
       "      <th>Applicant_Marital_Status</th>\n",
       "      <td>0</td>\n",
       "      <td>4</td>\n",
       "      <td>object</td>\n",
       "    </tr>\n",
       "  </tbody>\n",
       "</table>\n",
       "</div>"
      ],
      "text/plain": [
       "                          null  unique    data\n",
       "ID                           0    8844  object\n",
       "Office_PIN                   0      98   int64\n",
       "Applicant_City_PIN           0    2858   int64\n",
       "Applicant_Gender             0       2  object\n",
       "Applicant_Marital_Status     0       4  object"
      ]
     },
     "execution_count": 20,
     "metadata": {},
     "output_type": "execute_result"
    }
   ],
   "source": [
    "temp=pd.DataFrame(index=df.columns)\n",
    "temp['null'] = df.isnull().sum()\n",
    "temp['unique'] = df.nunique()\n",
    "temp['data'] = df.dtypes\n",
    "temp.head()"
   ]
  },
  {
   "cell_type": "code",
   "execution_count": 21,
   "metadata": {},
   "outputs": [
    {
     "data": {
      "text/html": [
       "<div>\n",
       "<style scoped>\n",
       "    .dataframe tbody tr th:only-of-type {\n",
       "        vertical-align: middle;\n",
       "    }\n",
       "\n",
       "    .dataframe tbody tr th {\n",
       "        vertical-align: top;\n",
       "    }\n",
       "\n",
       "    .dataframe thead th {\n",
       "        text-align: right;\n",
       "    }\n",
       "</style>\n",
       "<table border=\"1\" class=\"dataframe\">\n",
       "  <thead>\n",
       "    <tr style=\"text-align: right;\">\n",
       "      <th></th>\n",
       "      <th>null</th>\n",
       "      <th>unique</th>\n",
       "      <th>data</th>\n",
       "    </tr>\n",
       "  </thead>\n",
       "  <tbody>\n",
       "    <tr>\n",
       "      <th>ID</th>\n",
       "      <td>0</td>\n",
       "      <td>8844</td>\n",
       "      <td>object</td>\n",
       "    </tr>\n",
       "    <tr>\n",
       "      <th>Office_PIN</th>\n",
       "      <td>0</td>\n",
       "      <td>98</td>\n",
       "      <td>int64</td>\n",
       "    </tr>\n",
       "    <tr>\n",
       "      <th>Applicant_City_PIN</th>\n",
       "      <td>0</td>\n",
       "      <td>2858</td>\n",
       "      <td>int64</td>\n",
       "    </tr>\n",
       "    <tr>\n",
       "      <th>Applicant_Gender</th>\n",
       "      <td>0</td>\n",
       "      <td>2</td>\n",
       "      <td>object</td>\n",
       "    </tr>\n",
       "    <tr>\n",
       "      <th>Applicant_Marital_Status</th>\n",
       "      <td>0</td>\n",
       "      <td>4</td>\n",
       "      <td>object</td>\n",
       "    </tr>\n",
       "    <tr>\n",
       "      <th>Applicant_Occupation</th>\n",
       "      <td>0</td>\n",
       "      <td>5</td>\n",
       "      <td>object</td>\n",
       "    </tr>\n",
       "    <tr>\n",
       "      <th>Applicant_Qualification</th>\n",
       "      <td>0</td>\n",
       "      <td>10</td>\n",
       "      <td>object</td>\n",
       "    </tr>\n",
       "    <tr>\n",
       "      <th>Manager_Joining_Designation</th>\n",
       "      <td>0</td>\n",
       "      <td>8</td>\n",
       "      <td>object</td>\n",
       "    </tr>\n",
       "    <tr>\n",
       "      <th>Manager_Current_Designation</th>\n",
       "      <td>0</td>\n",
       "      <td>5</td>\n",
       "      <td>object</td>\n",
       "    </tr>\n",
       "    <tr>\n",
       "      <th>Manager_Grade</th>\n",
       "      <td>0</td>\n",
       "      <td>10</td>\n",
       "      <td>float64</td>\n",
       "    </tr>\n",
       "    <tr>\n",
       "      <th>Manager_Status</th>\n",
       "      <td>0</td>\n",
       "      <td>2</td>\n",
       "      <td>object</td>\n",
       "    </tr>\n",
       "    <tr>\n",
       "      <th>Manager_Gender</th>\n",
       "      <td>0</td>\n",
       "      <td>2</td>\n",
       "      <td>object</td>\n",
       "    </tr>\n",
       "    <tr>\n",
       "      <th>Manager_Num_Application</th>\n",
       "      <td>0</td>\n",
       "      <td>17</td>\n",
       "      <td>float64</td>\n",
       "    </tr>\n",
       "    <tr>\n",
       "      <th>Manager_Num_Coded</th>\n",
       "      <td>0</td>\n",
       "      <td>10</td>\n",
       "      <td>float64</td>\n",
       "    </tr>\n",
       "    <tr>\n",
       "      <th>Manager_Business</th>\n",
       "      <td>0</td>\n",
       "      <td>3747</td>\n",
       "      <td>float64</td>\n",
       "    </tr>\n",
       "    <tr>\n",
       "      <th>Manager_Num_Products</th>\n",
       "      <td>0</td>\n",
       "      <td>57</td>\n",
       "      <td>float64</td>\n",
       "    </tr>\n",
       "    <tr>\n",
       "      <th>Manager_Business2</th>\n",
       "      <td>0</td>\n",
       "      <td>3743</td>\n",
       "      <td>float64</td>\n",
       "    </tr>\n",
       "    <tr>\n",
       "      <th>Manager_Num_Products2</th>\n",
       "      <td>0</td>\n",
       "      <td>57</td>\n",
       "      <td>float64</td>\n",
       "    </tr>\n",
       "    <tr>\n",
       "      <th>Business_Sourced</th>\n",
       "      <td>0</td>\n",
       "      <td>2</td>\n",
       "      <td>int64</td>\n",
       "    </tr>\n",
       "  </tbody>\n",
       "</table>\n",
       "</div>"
      ],
      "text/plain": [
       "                             null  unique     data\n",
       "ID                              0    8844   object\n",
       "Office_PIN                      0      98    int64\n",
       "Applicant_City_PIN              0    2858    int64\n",
       "Applicant_Gender                0       2   object\n",
       "Applicant_Marital_Status        0       4   object\n",
       "Applicant_Occupation            0       5   object\n",
       "Applicant_Qualification         0      10   object\n",
       "Manager_Joining_Designation     0       8   object\n",
       "Manager_Current_Designation     0       5   object\n",
       "Manager_Grade                   0      10  float64\n",
       "Manager_Status                  0       2   object\n",
       "Manager_Gender                  0       2   object\n",
       "Manager_Num_Application         0      17  float64\n",
       "Manager_Num_Coded               0      10  float64\n",
       "Manager_Business                0    3747  float64\n",
       "Manager_Num_Products            0      57  float64\n",
       "Manager_Business2               0    3743  float64\n",
       "Manager_Num_Products2           0      57  float64\n",
       "Business_Sourced                0       2    int64"
      ]
     },
     "execution_count": 21,
     "metadata": {},
     "output_type": "execute_result"
    }
   ],
   "source": [
    "temp"
   ]
  },
  {
   "cell_type": "code",
   "execution_count": 22,
   "metadata": {},
   "outputs": [],
   "source": [
    "df = df.drop(['ID'], axis=1)"
   ]
  },
  {
   "cell_type": "code",
   "execution_count": 23,
   "metadata": {},
   "outputs": [
    {
     "data": {
      "text/plain": [
       "Index(['Office_PIN', 'Applicant_City_PIN', 'Applicant_Gender',\n",
       "       'Applicant_Marital_Status', 'Applicant_Occupation',\n",
       "       'Applicant_Qualification', 'Manager_Joining_Designation',\n",
       "       'Manager_Current_Designation', 'Manager_Grade', 'Manager_Status',\n",
       "       'Manager_Gender', 'Manager_Num_Application', 'Manager_Num_Coded',\n",
       "       'Manager_Business', 'Manager_Num_Products', 'Manager_Business2',\n",
       "       'Manager_Num_Products2', 'Business_Sourced'],\n",
       "      dtype='object')"
      ]
     },
     "execution_count": 23,
     "metadata": {},
     "output_type": "execute_result"
    }
   ],
   "source": [
    "df.columns"
   ]
  },
  {
   "cell_type": "code",
   "execution_count": 26,
   "metadata": {},
   "outputs": [
    {
     "name": "stdout",
     "output_type": "stream",
     "text": [
      "-------Applicant_Gender----------\n",
      "M    6709\n",
      "F    2135\n",
      "Name: Applicant_Gender, dtype: int64\n",
      "\n",
      "-------Applicant_Marital_Status----------\n",
      "M    5792\n",
      "S    3042\n",
      "W       6\n",
      "D       4\n",
      "Name: Applicant_Marital_Status, dtype: int64\n",
      "\n",
      "-------Applicant_Occupation----------\n",
      "Salaried         4636\n",
      "Business         2157\n",
      "Others           1809\n",
      "Self Employed     146\n",
      "Student            96\n",
      "Name: Applicant_Occupation, dtype: int64\n",
      "\n",
      "-------Applicant_Qualification----------\n",
      "Class XII                                                           5497\n",
      "Graduate                                                            2958\n",
      "Class X                                                              195\n",
      "Others                                                               116\n",
      "Masters of Business Administration                                    71\n",
      "Associate / Fellow of Institute of Chartered Accountans of India       3\n",
      "Associate/Fellow of Insurance Institute of India                       1\n",
      "Professional Qualification in Marketing                                1\n",
      "Associate/Fellow of Acturial Society of India                          1\n",
      "Associate/Fellow of Institute of Company Secretories of India          1\n",
      "Name: Applicant_Qualification, dtype: int64\n",
      "\n",
      "-------Manager_Joining_Designation----------\n",
      "Level 1    4632\n",
      "Level 2    2787\n",
      "Level 3    1146\n",
      "Level 4     200\n",
      "Other        58\n",
      "Level 6      18\n",
      "Level 7       2\n",
      "Level 5       1\n",
      "Name: Manager_Joining_Designation, dtype: int64\n",
      "\n",
      "-------Manager_Current_Designation----------\n",
      "Level 2    3208\n",
      "Level 1    2479\n",
      "Level 3    2033\n",
      "Level 4    1031\n",
      "Level 5      93\n",
      "Name: Manager_Current_Designation, dtype: int64\n",
      "\n",
      "-------Manager_Status----------\n",
      "Confirmation    5277\n",
      "Probation       3567\n",
      "Name: Manager_Status, dtype: int64\n",
      "\n",
      "-------Manager_Gender----------\n",
      "M    7627\n",
      "F    1217\n",
      "Name: Manager_Gender, dtype: int64\n",
      "\n"
     ]
    }
   ],
   "source": [
    "cols = ['Applicant_Gender',\n",
    "       'Applicant_Marital_Status', 'Applicant_Occupation',\n",
    "       'Applicant_Qualification', 'Manager_Joining_Designation',\n",
    "       'Manager_Current_Designation','Manager_Status',\n",
    "       'Manager_Gender']\n",
    "for i in (cols):\n",
    "    print(\"-------\"+i+'----------')\n",
    "    print(df[i].value_counts())\n",
    "    print()"
   ]
  },
  {
   "cell_type": "code",
   "execution_count": 28,
   "metadata": {},
   "outputs": [
    {
     "data": {
      "text/html": [
       "<div>\n",
       "<style scoped>\n",
       "    .dataframe tbody tr th:only-of-type {\n",
       "        vertical-align: middle;\n",
       "    }\n",
       "\n",
       "    .dataframe tbody tr th {\n",
       "        vertical-align: top;\n",
       "    }\n",
       "\n",
       "    .dataframe thead th {\n",
       "        text-align: right;\n",
       "    }\n",
       "</style>\n",
       "<table border=\"1\" class=\"dataframe\">\n",
       "  <thead>\n",
       "    <tr style=\"text-align: right;\">\n",
       "      <th></th>\n",
       "      <th>Office_PIN</th>\n",
       "      <th>Applicant_City_PIN</th>\n",
       "      <th>Manager_Grade</th>\n",
       "      <th>Manager_Num_Application</th>\n",
       "      <th>Manager_Num_Coded</th>\n",
       "      <th>Manager_Business</th>\n",
       "      <th>Manager_Num_Products</th>\n",
       "      <th>Manager_Business2</th>\n",
       "      <th>Manager_Num_Products2</th>\n",
       "      <th>Business_Sourced</th>\n",
       "      <th>...</th>\n",
       "      <th>Manager_Joining_Designation_Other</th>\n",
       "      <th>Manager_Current_Designation_Level 1</th>\n",
       "      <th>Manager_Current_Designation_Level 2</th>\n",
       "      <th>Manager_Current_Designation_Level 3</th>\n",
       "      <th>Manager_Current_Designation_Level 4</th>\n",
       "      <th>Manager_Current_Designation_Level 5</th>\n",
       "      <th>Manager_Status_Confirmation</th>\n",
       "      <th>Manager_Status_Probation</th>\n",
       "      <th>Manager_Gender_F</th>\n",
       "      <th>Manager_Gender_M</th>\n",
       "    </tr>\n",
       "  </thead>\n",
       "  <tbody>\n",
       "    <tr>\n",
       "      <th>0</th>\n",
       "      <td>842001</td>\n",
       "      <td>844120</td>\n",
       "      <td>3.0</td>\n",
       "      <td>2.0</td>\n",
       "      <td>1.0</td>\n",
       "      <td>335249.0</td>\n",
       "      <td>28.0</td>\n",
       "      <td>335249.0</td>\n",
       "      <td>28.0</td>\n",
       "      <td>0</td>\n",
       "      <td>...</td>\n",
       "      <td>0</td>\n",
       "      <td>0</td>\n",
       "      <td>1</td>\n",
       "      <td>0</td>\n",
       "      <td>0</td>\n",
       "      <td>0</td>\n",
       "      <td>1</td>\n",
       "      <td>0</td>\n",
       "      <td>0</td>\n",
       "      <td>1</td>\n",
       "    </tr>\n",
       "    <tr>\n",
       "      <th>1</th>\n",
       "      <td>842001</td>\n",
       "      <td>844111</td>\n",
       "      <td>3.0</td>\n",
       "      <td>2.0</td>\n",
       "      <td>1.0</td>\n",
       "      <td>335249.0</td>\n",
       "      <td>28.0</td>\n",
       "      <td>335249.0</td>\n",
       "      <td>28.0</td>\n",
       "      <td>1</td>\n",
       "      <td>...</td>\n",
       "      <td>0</td>\n",
       "      <td>0</td>\n",
       "      <td>1</td>\n",
       "      <td>0</td>\n",
       "      <td>0</td>\n",
       "      <td>0</td>\n",
       "      <td>1</td>\n",
       "      <td>0</td>\n",
       "      <td>0</td>\n",
       "      <td>1</td>\n",
       "    </tr>\n",
       "    <tr>\n",
       "      <th>2</th>\n",
       "      <td>800001</td>\n",
       "      <td>844101</td>\n",
       "      <td>2.0</td>\n",
       "      <td>0.0</td>\n",
       "      <td>0.0</td>\n",
       "      <td>357184.0</td>\n",
       "      <td>24.0</td>\n",
       "      <td>357184.0</td>\n",
       "      <td>24.0</td>\n",
       "      <td>0</td>\n",
       "      <td>...</td>\n",
       "      <td>0</td>\n",
       "      <td>1</td>\n",
       "      <td>0</td>\n",
       "      <td>0</td>\n",
       "      <td>0</td>\n",
       "      <td>0</td>\n",
       "      <td>1</td>\n",
       "      <td>0</td>\n",
       "      <td>0</td>\n",
       "      <td>1</td>\n",
       "    </tr>\n",
       "    <tr>\n",
       "      <th>3</th>\n",
       "      <td>814112</td>\n",
       "      <td>814112</td>\n",
       "      <td>4.0</td>\n",
       "      <td>0.0</td>\n",
       "      <td>0.0</td>\n",
       "      <td>318356.0</td>\n",
       "      <td>22.0</td>\n",
       "      <td>318356.0</td>\n",
       "      <td>22.0</td>\n",
       "      <td>0</td>\n",
       "      <td>...</td>\n",
       "      <td>0</td>\n",
       "      <td>0</td>\n",
       "      <td>0</td>\n",
       "      <td>1</td>\n",
       "      <td>0</td>\n",
       "      <td>0</td>\n",
       "      <td>1</td>\n",
       "      <td>0</td>\n",
       "      <td>1</td>\n",
       "      <td>0</td>\n",
       "    </tr>\n",
       "    <tr>\n",
       "      <th>4</th>\n",
       "      <td>814112</td>\n",
       "      <td>815351</td>\n",
       "      <td>2.0</td>\n",
       "      <td>2.0</td>\n",
       "      <td>1.0</td>\n",
       "      <td>230402.0</td>\n",
       "      <td>17.0</td>\n",
       "      <td>230402.0</td>\n",
       "      <td>17.0</td>\n",
       "      <td>0</td>\n",
       "      <td>...</td>\n",
       "      <td>0</td>\n",
       "      <td>1</td>\n",
       "      <td>0</td>\n",
       "      <td>0</td>\n",
       "      <td>0</td>\n",
       "      <td>0</td>\n",
       "      <td>1</td>\n",
       "      <td>0</td>\n",
       "      <td>0</td>\n",
       "      <td>1</td>\n",
       "    </tr>\n",
       "  </tbody>\n",
       "</table>\n",
       "<p>5 rows × 48 columns</p>\n",
       "</div>"
      ],
      "text/plain": [
       "   Office_PIN  Applicant_City_PIN  Manager_Grade  Manager_Num_Application  \\\n",
       "0      842001              844120            3.0                      2.0   \n",
       "1      842001              844111            3.0                      2.0   \n",
       "2      800001              844101            2.0                      0.0   \n",
       "3      814112              814112            4.0                      0.0   \n",
       "4      814112              815351            2.0                      2.0   \n",
       "\n",
       "   Manager_Num_Coded  Manager_Business  Manager_Num_Products  \\\n",
       "0                1.0          335249.0                  28.0   \n",
       "1                1.0          335249.0                  28.0   \n",
       "2                0.0          357184.0                  24.0   \n",
       "3                0.0          318356.0                  22.0   \n",
       "4                1.0          230402.0                  17.0   \n",
       "\n",
       "   Manager_Business2  Manager_Num_Products2  Business_Sourced  ...  \\\n",
       "0           335249.0                   28.0                 0  ...   \n",
       "1           335249.0                   28.0                 1  ...   \n",
       "2           357184.0                   24.0                 0  ...   \n",
       "3           318356.0                   22.0                 0  ...   \n",
       "4           230402.0                   17.0                 0  ...   \n",
       "\n",
       "   Manager_Joining_Designation_Other  Manager_Current_Designation_Level 1  \\\n",
       "0                                  0                                    0   \n",
       "1                                  0                                    0   \n",
       "2                                  0                                    1   \n",
       "3                                  0                                    0   \n",
       "4                                  0                                    1   \n",
       "\n",
       "   Manager_Current_Designation_Level 2  Manager_Current_Designation_Level 3  \\\n",
       "0                                    1                                    0   \n",
       "1                                    1                                    0   \n",
       "2                                    0                                    0   \n",
       "3                                    0                                    1   \n",
       "4                                    0                                    0   \n",
       "\n",
       "   Manager_Current_Designation_Level 4  Manager_Current_Designation_Level 5  \\\n",
       "0                                    0                                    0   \n",
       "1                                    0                                    0   \n",
       "2                                    0                                    0   \n",
       "3                                    0                                    0   \n",
       "4                                    0                                    0   \n",
       "\n",
       "   Manager_Status_Confirmation  Manager_Status_Probation  Manager_Gender_F  \\\n",
       "0                            1                         0                 0   \n",
       "1                            1                         0                 0   \n",
       "2                            1                         0                 0   \n",
       "3                            1                         0                 1   \n",
       "4                            1                         0                 0   \n",
       "\n",
       "   Manager_Gender_M  \n",
       "0                 1  \n",
       "1                 1  \n",
       "2                 1  \n",
       "3                 0  \n",
       "4                 1  \n",
       "\n",
       "[5 rows x 48 columns]"
      ]
     },
     "execution_count": 28,
     "metadata": {},
     "output_type": "execute_result"
    }
   ],
   "source": [
    "data = pd.get_dummies(df)\n",
    "data.head()"
   ]
  },
  {
   "cell_type": "code",
   "execution_count": 29,
   "metadata": {},
   "outputs": [
    {
     "data": {
      "text/plain": [
       "(8844, 48)"
      ]
     },
     "execution_count": 29,
     "metadata": {},
     "output_type": "execute_result"
    }
   ],
   "source": [
    "data.shape"
   ]
  },
  {
   "cell_type": "code",
   "execution_count": 30,
   "metadata": {},
   "outputs": [],
   "source": [
    "## segregation of the data"
   ]
  },
  {
   "cell_type": "code",
   "execution_count": 31,
   "metadata": {},
   "outputs": [],
   "source": [
    "x = data.drop(['Business_Sourced'], axis=1)\n",
    "y = data['Business_Sourced']"
   ]
  },
  {
   "cell_type": "code",
   "execution_count": 32,
   "metadata": {},
   "outputs": [
    {
     "data": {
      "text/html": [
       "<div>\n",
       "<style scoped>\n",
       "    .dataframe tbody tr th:only-of-type {\n",
       "        vertical-align: middle;\n",
       "    }\n",
       "\n",
       "    .dataframe tbody tr th {\n",
       "        vertical-align: top;\n",
       "    }\n",
       "\n",
       "    .dataframe thead th {\n",
       "        text-align: right;\n",
       "    }\n",
       "</style>\n",
       "<table border=\"1\" class=\"dataframe\">\n",
       "  <thead>\n",
       "    <tr style=\"text-align: right;\">\n",
       "      <th></th>\n",
       "      <th>Office_PIN</th>\n",
       "      <th>Applicant_City_PIN</th>\n",
       "      <th>Manager_Grade</th>\n",
       "      <th>Manager_Num_Application</th>\n",
       "      <th>Manager_Num_Coded</th>\n",
       "      <th>Manager_Business</th>\n",
       "      <th>Manager_Num_Products</th>\n",
       "      <th>Manager_Business2</th>\n",
       "      <th>Manager_Num_Products2</th>\n",
       "      <th>Applicant_Gender_F</th>\n",
       "      <th>...</th>\n",
       "      <th>Manager_Joining_Designation_Other</th>\n",
       "      <th>Manager_Current_Designation_Level 1</th>\n",
       "      <th>Manager_Current_Designation_Level 2</th>\n",
       "      <th>Manager_Current_Designation_Level 3</th>\n",
       "      <th>Manager_Current_Designation_Level 4</th>\n",
       "      <th>Manager_Current_Designation_Level 5</th>\n",
       "      <th>Manager_Status_Confirmation</th>\n",
       "      <th>Manager_Status_Probation</th>\n",
       "      <th>Manager_Gender_F</th>\n",
       "      <th>Manager_Gender_M</th>\n",
       "    </tr>\n",
       "  </thead>\n",
       "  <tbody>\n",
       "    <tr>\n",
       "      <th>0</th>\n",
       "      <td>842001</td>\n",
       "      <td>844120</td>\n",
       "      <td>3.0</td>\n",
       "      <td>2.0</td>\n",
       "      <td>1.0</td>\n",
       "      <td>335249.0</td>\n",
       "      <td>28.0</td>\n",
       "      <td>335249.0</td>\n",
       "      <td>28.0</td>\n",
       "      <td>0</td>\n",
       "      <td>...</td>\n",
       "      <td>0</td>\n",
       "      <td>0</td>\n",
       "      <td>1</td>\n",
       "      <td>0</td>\n",
       "      <td>0</td>\n",
       "      <td>0</td>\n",
       "      <td>1</td>\n",
       "      <td>0</td>\n",
       "      <td>0</td>\n",
       "      <td>1</td>\n",
       "    </tr>\n",
       "    <tr>\n",
       "      <th>1</th>\n",
       "      <td>842001</td>\n",
       "      <td>844111</td>\n",
       "      <td>3.0</td>\n",
       "      <td>2.0</td>\n",
       "      <td>1.0</td>\n",
       "      <td>335249.0</td>\n",
       "      <td>28.0</td>\n",
       "      <td>335249.0</td>\n",
       "      <td>28.0</td>\n",
       "      <td>0</td>\n",
       "      <td>...</td>\n",
       "      <td>0</td>\n",
       "      <td>0</td>\n",
       "      <td>1</td>\n",
       "      <td>0</td>\n",
       "      <td>0</td>\n",
       "      <td>0</td>\n",
       "      <td>1</td>\n",
       "      <td>0</td>\n",
       "      <td>0</td>\n",
       "      <td>1</td>\n",
       "    </tr>\n",
       "    <tr>\n",
       "      <th>2</th>\n",
       "      <td>800001</td>\n",
       "      <td>844101</td>\n",
       "      <td>2.0</td>\n",
       "      <td>0.0</td>\n",
       "      <td>0.0</td>\n",
       "      <td>357184.0</td>\n",
       "      <td>24.0</td>\n",
       "      <td>357184.0</td>\n",
       "      <td>24.0</td>\n",
       "      <td>0</td>\n",
       "      <td>...</td>\n",
       "      <td>0</td>\n",
       "      <td>1</td>\n",
       "      <td>0</td>\n",
       "      <td>0</td>\n",
       "      <td>0</td>\n",
       "      <td>0</td>\n",
       "      <td>1</td>\n",
       "      <td>0</td>\n",
       "      <td>0</td>\n",
       "      <td>1</td>\n",
       "    </tr>\n",
       "    <tr>\n",
       "      <th>3</th>\n",
       "      <td>814112</td>\n",
       "      <td>814112</td>\n",
       "      <td>4.0</td>\n",
       "      <td>0.0</td>\n",
       "      <td>0.0</td>\n",
       "      <td>318356.0</td>\n",
       "      <td>22.0</td>\n",
       "      <td>318356.0</td>\n",
       "      <td>22.0</td>\n",
       "      <td>0</td>\n",
       "      <td>...</td>\n",
       "      <td>0</td>\n",
       "      <td>0</td>\n",
       "      <td>0</td>\n",
       "      <td>1</td>\n",
       "      <td>0</td>\n",
       "      <td>0</td>\n",
       "      <td>1</td>\n",
       "      <td>0</td>\n",
       "      <td>1</td>\n",
       "      <td>0</td>\n",
       "    </tr>\n",
       "    <tr>\n",
       "      <th>4</th>\n",
       "      <td>814112</td>\n",
       "      <td>815351</td>\n",
       "      <td>2.0</td>\n",
       "      <td>2.0</td>\n",
       "      <td>1.0</td>\n",
       "      <td>230402.0</td>\n",
       "      <td>17.0</td>\n",
       "      <td>230402.0</td>\n",
       "      <td>17.0</td>\n",
       "      <td>0</td>\n",
       "      <td>...</td>\n",
       "      <td>0</td>\n",
       "      <td>1</td>\n",
       "      <td>0</td>\n",
       "      <td>0</td>\n",
       "      <td>0</td>\n",
       "      <td>0</td>\n",
       "      <td>1</td>\n",
       "      <td>0</td>\n",
       "      <td>0</td>\n",
       "      <td>1</td>\n",
       "    </tr>\n",
       "  </tbody>\n",
       "</table>\n",
       "<p>5 rows × 47 columns</p>\n",
       "</div>"
      ],
      "text/plain": [
       "   Office_PIN  Applicant_City_PIN  Manager_Grade  Manager_Num_Application  \\\n",
       "0      842001              844120            3.0                      2.0   \n",
       "1      842001              844111            3.0                      2.0   \n",
       "2      800001              844101            2.0                      0.0   \n",
       "3      814112              814112            4.0                      0.0   \n",
       "4      814112              815351            2.0                      2.0   \n",
       "\n",
       "   Manager_Num_Coded  Manager_Business  Manager_Num_Products  \\\n",
       "0                1.0          335249.0                  28.0   \n",
       "1                1.0          335249.0                  28.0   \n",
       "2                0.0          357184.0                  24.0   \n",
       "3                0.0          318356.0                  22.0   \n",
       "4                1.0          230402.0                  17.0   \n",
       "\n",
       "   Manager_Business2  Manager_Num_Products2  Applicant_Gender_F  ...  \\\n",
       "0           335249.0                   28.0                   0  ...   \n",
       "1           335249.0                   28.0                   0  ...   \n",
       "2           357184.0                   24.0                   0  ...   \n",
       "3           318356.0                   22.0                   0  ...   \n",
       "4           230402.0                   17.0                   0  ...   \n",
       "\n",
       "   Manager_Joining_Designation_Other  Manager_Current_Designation_Level 1  \\\n",
       "0                                  0                                    0   \n",
       "1                                  0                                    0   \n",
       "2                                  0                                    1   \n",
       "3                                  0                                    0   \n",
       "4                                  0                                    1   \n",
       "\n",
       "   Manager_Current_Designation_Level 2  Manager_Current_Designation_Level 3  \\\n",
       "0                                    1                                    0   \n",
       "1                                    1                                    0   \n",
       "2                                    0                                    0   \n",
       "3                                    0                                    1   \n",
       "4                                    0                                    0   \n",
       "\n",
       "   Manager_Current_Designation_Level 4  Manager_Current_Designation_Level 5  \\\n",
       "0                                    0                                    0   \n",
       "1                                    0                                    0   \n",
       "2                                    0                                    0   \n",
       "3                                    0                                    0   \n",
       "4                                    0                                    0   \n",
       "\n",
       "   Manager_Status_Confirmation  Manager_Status_Probation  Manager_Gender_F  \\\n",
       "0                            1                         0                 0   \n",
       "1                            1                         0                 0   \n",
       "2                            1                         0                 0   \n",
       "3                            1                         0                 1   \n",
       "4                            1                         0                 0   \n",
       "\n",
       "   Manager_Gender_M  \n",
       "0                 1  \n",
       "1                 1  \n",
       "2                 1  \n",
       "3                 0  \n",
       "4                 1  \n",
       "\n",
       "[5 rows x 47 columns]"
      ]
     },
     "execution_count": 32,
     "metadata": {},
     "output_type": "execute_result"
    }
   ],
   "source": [
    "x.head()"
   ]
  },
  {
   "cell_type": "code",
   "execution_count": 33,
   "metadata": {},
   "outputs": [
    {
     "data": {
      "text/plain": [
       "0    0\n",
       "1    1\n",
       "2    0\n",
       "3    0\n",
       "4    0\n",
       "Name: Business_Sourced, dtype: int64"
      ]
     },
     "execution_count": 33,
     "metadata": {},
     "output_type": "execute_result"
    }
   ],
   "source": [
    "y.head()"
   ]
  },
  {
   "cell_type": "code",
   "execution_count": 35,
   "metadata": {},
   "outputs": [
    {
     "data": {
      "text/html": [
       "<div>\n",
       "<style scoped>\n",
       "    .dataframe tbody tr th:only-of-type {\n",
       "        vertical-align: middle;\n",
       "    }\n",
       "\n",
       "    .dataframe tbody tr th {\n",
       "        vertical-align: top;\n",
       "    }\n",
       "\n",
       "    .dataframe thead th {\n",
       "        text-align: right;\n",
       "    }\n",
       "</style>\n",
       "<table border=\"1\" class=\"dataframe\">\n",
       "  <thead>\n",
       "    <tr style=\"text-align: right;\">\n",
       "      <th></th>\n",
       "      <th>Office_PIN</th>\n",
       "      <th>Applicant_City_PIN</th>\n",
       "      <th>Manager_Grade</th>\n",
       "      <th>Manager_Num_Application</th>\n",
       "      <th>Manager_Num_Coded</th>\n",
       "      <th>Manager_Business</th>\n",
       "      <th>Manager_Num_Products</th>\n",
       "      <th>Manager_Business2</th>\n",
       "      <th>Manager_Num_Products2</th>\n",
       "      <th>Applicant_Gender_F</th>\n",
       "      <th>...</th>\n",
       "      <th>Manager_Joining_Designation_Other</th>\n",
       "      <th>Manager_Current_Designation_Level 1</th>\n",
       "      <th>Manager_Current_Designation_Level 2</th>\n",
       "      <th>Manager_Current_Designation_Level 3</th>\n",
       "      <th>Manager_Current_Designation_Level 4</th>\n",
       "      <th>Manager_Current_Designation_Level 5</th>\n",
       "      <th>Manager_Status_Confirmation</th>\n",
       "      <th>Manager_Status_Probation</th>\n",
       "      <th>Manager_Gender_F</th>\n",
       "      <th>Manager_Gender_M</th>\n",
       "    </tr>\n",
       "  </thead>\n",
       "  <tbody>\n",
       "    <tr>\n",
       "      <th>0</th>\n",
       "      <td>0.987721</td>\n",
       "      <td>0.828899</td>\n",
       "      <td>0.222222</td>\n",
       "      <td>0.090909</td>\n",
       "      <td>0.111111</td>\n",
       "      <td>0.156245</td>\n",
       "      <td>0.277228</td>\n",
       "      <td>0.156245</td>\n",
       "      <td>0.277228</td>\n",
       "      <td>0.0</td>\n",
       "      <td>...</td>\n",
       "      <td>0.0</td>\n",
       "      <td>0.0</td>\n",
       "      <td>1.0</td>\n",
       "      <td>0.0</td>\n",
       "      <td>0.0</td>\n",
       "      <td>0.0</td>\n",
       "      <td>1.0</td>\n",
       "      <td>0.0</td>\n",
       "      <td>0.0</td>\n",
       "      <td>1.0</td>\n",
       "    </tr>\n",
       "    <tr>\n",
       "      <th>1</th>\n",
       "      <td>0.987721</td>\n",
       "      <td>0.828888</td>\n",
       "      <td>0.222222</td>\n",
       "      <td>0.090909</td>\n",
       "      <td>0.111111</td>\n",
       "      <td>0.156245</td>\n",
       "      <td>0.277228</td>\n",
       "      <td>0.156245</td>\n",
       "      <td>0.277228</td>\n",
       "      <td>0.0</td>\n",
       "      <td>...</td>\n",
       "      <td>0.0</td>\n",
       "      <td>0.0</td>\n",
       "      <td>1.0</td>\n",
       "      <td>0.0</td>\n",
       "      <td>0.0</td>\n",
       "      <td>0.0</td>\n",
       "      <td>1.0</td>\n",
       "      <td>0.0</td>\n",
       "      <td>0.0</td>\n",
       "      <td>1.0</td>\n",
       "    </tr>\n",
       "    <tr>\n",
       "      <th>2</th>\n",
       "      <td>0.931048</td>\n",
       "      <td>0.828877</td>\n",
       "      <td>0.111111</td>\n",
       "      <td>0.000000</td>\n",
       "      <td>0.000000</td>\n",
       "      <td>0.161952</td>\n",
       "      <td>0.237624</td>\n",
       "      <td>0.161952</td>\n",
       "      <td>0.237624</td>\n",
       "      <td>0.0</td>\n",
       "      <td>...</td>\n",
       "      <td>0.0</td>\n",
       "      <td>1.0</td>\n",
       "      <td>0.0</td>\n",
       "      <td>0.0</td>\n",
       "      <td>0.0</td>\n",
       "      <td>0.0</td>\n",
       "      <td>1.0</td>\n",
       "      <td>0.0</td>\n",
       "      <td>0.0</td>\n",
       "      <td>1.0</td>\n",
       "    </tr>\n",
       "    <tr>\n",
       "      <th>3</th>\n",
       "      <td>0.950089</td>\n",
       "      <td>0.795016</td>\n",
       "      <td>0.333333</td>\n",
       "      <td>0.000000</td>\n",
       "      <td>0.000000</td>\n",
       "      <td>0.151850</td>\n",
       "      <td>0.217822</td>\n",
       "      <td>0.151850</td>\n",
       "      <td>0.217822</td>\n",
       "      <td>0.0</td>\n",
       "      <td>...</td>\n",
       "      <td>0.0</td>\n",
       "      <td>0.0</td>\n",
       "      <td>0.0</td>\n",
       "      <td>1.0</td>\n",
       "      <td>0.0</td>\n",
       "      <td>0.0</td>\n",
       "      <td>1.0</td>\n",
       "      <td>0.0</td>\n",
       "      <td>1.0</td>\n",
       "      <td>0.0</td>\n",
       "    </tr>\n",
       "    <tr>\n",
       "      <th>4</th>\n",
       "      <td>0.950089</td>\n",
       "      <td>0.796415</td>\n",
       "      <td>0.111111</td>\n",
       "      <td>0.090909</td>\n",
       "      <td>0.111111</td>\n",
       "      <td>0.128967</td>\n",
       "      <td>0.168317</td>\n",
       "      <td>0.128967</td>\n",
       "      <td>0.168317</td>\n",
       "      <td>0.0</td>\n",
       "      <td>...</td>\n",
       "      <td>0.0</td>\n",
       "      <td>1.0</td>\n",
       "      <td>0.0</td>\n",
       "      <td>0.0</td>\n",
       "      <td>0.0</td>\n",
       "      <td>0.0</td>\n",
       "      <td>1.0</td>\n",
       "      <td>0.0</td>\n",
       "      <td>0.0</td>\n",
       "      <td>1.0</td>\n",
       "    </tr>\n",
       "  </tbody>\n",
       "</table>\n",
       "<p>5 rows × 47 columns</p>\n",
       "</div>"
      ],
      "text/plain": [
       "   Office_PIN  Applicant_City_PIN  Manager_Grade  Manager_Num_Application  \\\n",
       "0    0.987721            0.828899       0.222222                 0.090909   \n",
       "1    0.987721            0.828888       0.222222                 0.090909   \n",
       "2    0.931048            0.828877       0.111111                 0.000000   \n",
       "3    0.950089            0.795016       0.333333                 0.000000   \n",
       "4    0.950089            0.796415       0.111111                 0.090909   \n",
       "\n",
       "   Manager_Num_Coded  Manager_Business  Manager_Num_Products  \\\n",
       "0           0.111111          0.156245              0.277228   \n",
       "1           0.111111          0.156245              0.277228   \n",
       "2           0.000000          0.161952              0.237624   \n",
       "3           0.000000          0.151850              0.217822   \n",
       "4           0.111111          0.128967              0.168317   \n",
       "\n",
       "   Manager_Business2  Manager_Num_Products2  Applicant_Gender_F  ...  \\\n",
       "0           0.156245               0.277228                 0.0  ...   \n",
       "1           0.156245               0.277228                 0.0  ...   \n",
       "2           0.161952               0.237624                 0.0  ...   \n",
       "3           0.151850               0.217822                 0.0  ...   \n",
       "4           0.128967               0.168317                 0.0  ...   \n",
       "\n",
       "   Manager_Joining_Designation_Other  Manager_Current_Designation_Level 1  \\\n",
       "0                                0.0                                  0.0   \n",
       "1                                0.0                                  0.0   \n",
       "2                                0.0                                  1.0   \n",
       "3                                0.0                                  0.0   \n",
       "4                                0.0                                  1.0   \n",
       "\n",
       "   Manager_Current_Designation_Level 2  Manager_Current_Designation_Level 3  \\\n",
       "0                                  1.0                                  0.0   \n",
       "1                                  1.0                                  0.0   \n",
       "2                                  0.0                                  0.0   \n",
       "3                                  0.0                                  1.0   \n",
       "4                                  0.0                                  0.0   \n",
       "\n",
       "   Manager_Current_Designation_Level 4  Manager_Current_Designation_Level 5  \\\n",
       "0                                  0.0                                  0.0   \n",
       "1                                  0.0                                  0.0   \n",
       "2                                  0.0                                  0.0   \n",
       "3                                  0.0                                  0.0   \n",
       "4                                  0.0                                  0.0   \n",
       "\n",
       "   Manager_Status_Confirmation  Manager_Status_Probation  Manager_Gender_F  \\\n",
       "0                          1.0                       0.0               0.0   \n",
       "1                          1.0                       0.0               0.0   \n",
       "2                          1.0                       0.0               0.0   \n",
       "3                          1.0                       0.0               1.0   \n",
       "4                          1.0                       0.0               0.0   \n",
       "\n",
       "   Manager_Gender_M  \n",
       "0               1.0  \n",
       "1               1.0  \n",
       "2               1.0  \n",
       "3               0.0  \n",
       "4               1.0  \n",
       "\n",
       "[5 rows x 47 columns]"
      ]
     },
     "execution_count": 35,
     "metadata": {},
     "output_type": "execute_result"
    }
   ],
   "source": [
    "from sklearn.preprocessing import MinMaxScaler as MM\n",
    "scaler = MM()\n",
    "x_scaled = scaler.fit_transform(x)\n",
    "x= pd.DataFrame(data = x_scaled, columns=x.columns)\n",
    "x.head()"
   ]
  },
  {
   "cell_type": "code",
   "execution_count": 41,
   "metadata": {},
   "outputs": [],
   "source": [
    "from sklearn.model_selection import train_test_split as ttt\n",
    "train_x, test_x, train_y, test_y = ttt(x,y,random_state=56, stratify = y, test_size = 0.3)"
   ]
  },
  {
   "cell_type": "code",
   "execution_count": 42,
   "metadata": {},
   "outputs": [
    {
     "data": {
      "text/plain": [
       "((6190, 47), (2654, 47))"
      ]
     },
     "execution_count": 42,
     "metadata": {},
     "output_type": "execute_result"
    }
   ],
   "source": [
    "train_x.shape, test_x.shape"
   ]
  },
  {
   "cell_type": "code",
   "execution_count": 43,
   "metadata": {},
   "outputs": [],
   "source": [
    "from sklearn.linear_model import LogisticRegression as LRR"
   ]
  },
  {
   "cell_type": "code",
   "execution_count": 44,
   "metadata": {},
   "outputs": [],
   "source": [
    "from sklearn.metrics import f1_score"
   ]
  },
  {
   "cell_type": "code",
   "execution_count": 45,
   "metadata": {},
   "outputs": [
    {
     "name": "stderr",
     "output_type": "stream",
     "text": [
      "C:\\Users\\ROHIT BISHT\\anaconda3\\lib\\site-packages\\sklearn\\linear_model\\_logistic.py:940: ConvergenceWarning: lbfgs failed to converge (status=1):\n",
      "STOP: TOTAL NO. of ITERATIONS REACHED LIMIT.\n",
      "\n",
      "Increase the number of iterations (max_iter) or scale the data as shown in:\n",
      "    https://scikit-learn.org/stable/modules/preprocessing.html\n",
      "Please also refer to the documentation for alternative solver options:\n",
      "    https://scikit-learn.org/stable/modules/linear_model.html#logistic-regression\n",
      "  extra_warning_msg=_LOGISTIC_SOLVER_CONVERGENCE_MSG)\n"
     ]
    },
    {
     "data": {
      "text/plain": [
       "LogisticRegression(C=1.0, class_weight=None, dual=False, fit_intercept=True,\n",
       "                   intercept_scaling=1, l1_ratio=None, max_iter=100,\n",
       "                   multi_class='auto', n_jobs=None, penalty='l2',\n",
       "                   random_state=None, solver='lbfgs', tol=0.0001, verbose=0,\n",
       "                   warm_start=False)"
      ]
     },
     "execution_count": 45,
     "metadata": {},
     "output_type": "execute_result"
    }
   ],
   "source": [
    "lr = LRR()\n",
    "lr.fit(train_x, train_y)"
   ]
  },
  {
   "cell_type": "code",
   "execution_count": 46,
   "metadata": {},
   "outputs": [
    {
     "data": {
      "text/plain": [
       "0.08147174770039423"
      ]
     },
     "execution_count": 46,
     "metadata": {},
     "output_type": "execute_result"
    }
   ],
   "source": [
    "train_pre = lr.predict(train_x)\n",
    "score = f1_score(train_pre, train_y)\n",
    "score"
   ]
  },
  {
   "cell_type": "code",
   "execution_count": 57,
   "metadata": {},
   "outputs": [],
   "source": [
    "from sklearn.metrics import roc_auc_score"
   ]
  },
  {
   "cell_type": "code",
   "execution_count": 48,
   "metadata": {},
   "outputs": [
    {
     "data": {
      "text/plain": [
       "0.1058941058941059"
      ]
     },
     "execution_count": 48,
     "metadata": {},
     "output_type": "execute_result"
    }
   ],
   "source": [
    "test_pre = lr.predict(test_x)\n",
    "score = f1_score(test_pre, test_y)\n",
    "score"
   ]
  },
  {
   "cell_type": "code",
   "execution_count": 52,
   "metadata": {},
   "outputs": [
    {
     "data": {
      "text/plain": [
       "0    2563\n",
       "1      91\n",
       "dtype: int64"
      ]
     },
     "execution_count": 52,
     "metadata": {},
     "output_type": "execute_result"
    }
   ],
   "source": [
    "pd.value_counts(test_pre)"
   ]
  },
  {
   "cell_type": "code",
   "execution_count": 53,
   "metadata": {},
   "outputs": [
    {
     "data": {
      "text/plain": [
       "0    6028\n",
       "1     162\n",
       "dtype: int64"
      ]
     },
     "execution_count": 53,
     "metadata": {},
     "output_type": "execute_result"
    }
   ],
   "source": [
    "pd.value_counts(train_pre)"
   ]
  },
  {
   "cell_type": "code",
   "execution_count": 58,
   "metadata": {},
   "outputs": [
    {
     "data": {
      "text/plain": [
       "0    4069\n",
       "1    2121\n",
       "Name: Business_Sourced, dtype: int64"
      ]
     },
     "execution_count": 58,
     "metadata": {},
     "output_type": "execute_result"
    }
   ],
   "source": [
    "pd.value_counts(train_y)"
   ]
  },
  {
   "cell_type": "code",
   "execution_count": 60,
   "metadata": {},
   "outputs": [],
   "source": [
    "pred_train = lr.predict_proba(train_x)\n",
    "pred_valid = lr.predict_proba(test_x)"
   ]
  },
  {
   "cell_type": "code",
   "execution_count": 61,
   "metadata": {},
   "outputs": [
    {
     "data": {
      "text/plain": [
       "0.5986153051284485"
      ]
     },
     "execution_count": 61,
     "metadata": {},
     "output_type": "execute_result"
    }
   ],
   "source": [
    "roc_auc_score(train_y, pred_train[:,1])"
   ]
  },
  {
   "cell_type": "code",
   "execution_count": 63,
   "metadata": {},
   "outputs": [
    {
     "data": {
      "text/plain": [
       "0.5995857067244682"
      ]
     },
     "execution_count": 63,
     "metadata": {},
     "output_type": "execute_result"
    }
   ],
   "source": [
    "roc_auc_score(test_y, pred_valid[:,1])"
   ]
  },
  {
   "cell_type": "code",
   "execution_count": null,
   "metadata": {},
   "outputs": [],
   "source": []
  }
 ],
 "metadata": {
  "kernelspec": {
   "display_name": "Python 3",
   "language": "python",
   "name": "python3"
  },
  "language_info": {
   "codemirror_mode": {
    "name": "ipython",
    "version": 3
   },
   "file_extension": ".py",
   "mimetype": "text/x-python",
   "name": "python",
   "nbconvert_exporter": "python",
   "pygments_lexer": "ipython3",
   "version": "3.7.6"
  }
 },
 "nbformat": 4,
 "nbformat_minor": 4
}
